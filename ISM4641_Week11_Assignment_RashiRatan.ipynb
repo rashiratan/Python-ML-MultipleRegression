{
 "cells": [
  {
   "cell_type": "markdown",
   "metadata": {},
   "source": [
    "# Assignment 11: Predicting Customer Lifetime Value with Multiple Regression\n",
    "\n",
    "This assignment focuses on applying Multiple Linear Regression (MLR) to a common business problem: predicting Customer Lifetime Value (CLV). I will use Python and relevant libraries to build, interpret, and evaluate an MLR model using synthetic customer data."
   ]
  },
  {
   "cell_type": "code",
   "execution_count": 2,
   "metadata": {},
   "outputs": [
    {
     "name": "stdout",
     "output_type": "stream",
     "text": [
      "Libraries imported successfully.\n"
     ]
    }
   ],
   "source": [
    "#importing libraries\n",
    "import pandas as pd\n",
    "import numpy as np\n",
    "import matplotlib.pyplot as plt\n",
    "import seaborn as sns\n",
    "from sklearn.model_selection import train_test_split\n",
    "from sklearn.linear_model import LinearRegression\n",
    "from sklearn.metrics import mean_squared_error, r2_score, mean_absolute_error\n",
    "\n",
    "# Optional: Set a consistent plot style\n",
    "sns.set_style(\"whitegrid\")\n",
    "print(\"Libraries imported successfully.\")"
   ]
  },
  {
   "cell_type": "markdown",
   "metadata": {},
   "source": [
    "## Task 1: Executing starter code to generate data:"
   ]
  },
  {
   "cell_type": "code",
   "execution_count": 3,
   "metadata": {},
   "outputs": [
    {
     "name": "stdout",
     "output_type": "stream",
     "text": [
      "Synthetic Customer Data Head:\n",
      "   AvgPurchaseValue  PurchaseFrequency  CustomerTenure          CLV\n",
      "0         83.214928           2.649825        2.762106  1503.484718\n",
      "1         55.095036           3.438132        7.472734  1492.435762\n",
      "2        110.078096           3.054568        9.820457  1367.956073\n",
      "3         36.305181           3.581917        6.321292  1010.988008\n",
      "4        104.168257           3.359105        8.689112  1997.209326\n",
      "\n",
      "Data Description:\n",
      "       AvgPurchaseValue  PurchaseFrequency  CustomerTenure          CLV\n",
      "count        500.000000         500.000000      500.000000   500.000000\n",
      "mean          75.546159           5.005602        5.229268  1561.155591\n",
      "std           24.889128           1.954198        2.792919   393.090770\n",
      "min           10.000000           0.500000        0.510736   401.844341\n",
      "25%           58.085492           3.722779        2.783082  1281.604601\n",
      "50%           76.024690           5.031070        5.120830  1571.990603\n",
      "75%           93.576606           6.313882        7.769532  1824.026961\n",
      "max          172.331742          12.754086        9.982178  2741.040923\n"
     ]
    }
   ],
   "source": [
    "# Starter Code: Generate Synthetic CLV Data\n",
    "np.random.seed(110)\n",
    "n_customers = 500\n",
    "\n",
    "# Generate predictor variables\n",
    "avg_purchase_value = np.random.normal(75, 25, n_customers) # Avg $75, std $25\n",
    "purchase_frequency = np.random.normal(5, 2, n_customers)   # Avg 5 purchases/yr, std 2\n",
    "customer_tenure = np.random.uniform(0.5, 10, n_customers)  # Tenure between 0.5 and 10 years\n",
    "\n",
    "# Ensure non-negative values where logical\n",
    "avg_purchase_value = np.maximum(avg_purchase_value, 10)\n",
    "purchase_frequency = np.maximum(purchase_frequency, 0.5)\n",
    "\n",
    "# Generate CLV based on a linear relationship + noise\n",
    "# CLV = Base + (Effect of AvgPurchase * Freq * Tenure) - somewhat multiplicative effect logic + noise\n",
    "# Let's simplify to additive for clarity in MLR interpretation for this assignment:\n",
    "# CLV = Base + Effect(AvgPurchase) + Effect(Freq) + Effect(Tenure) + Noise\n",
    "clv = 150 + 10 * avg_purchase_value + 80 * purchase_frequency + 50 * customer_tenure + np.random.normal(0, 250, n_customers)\n",
    "clv = np.maximum(clv, 50) # Ensure minimum CLV\n",
    "\n",
    "# Create DataFrame\n",
    "df_clv = pd.DataFrame({\n",
    "    'AvgPurchaseValue': avg_purchase_value,\n",
    "    'PurchaseFrequency': purchase_frequency,\n",
    "    'CustomerTenure': customer_tenure,\n",
    "    'CLV': clv\n",
    "})\n",
    "\n",
    "print(\"Synthetic Customer Data Head:\")\n",
    "print(df_clv.head())\n",
    "print(\"\\nData Description:\")\n",
    "print(df_clv.describe())\n"
   ]
  },
  {
   "cell_type": "markdown",
   "metadata": {},
   "source": [
    "## Task 2: Preparing Data for MLR"
   ]
  },
  {
   "cell_type": "code",
   "execution_count": 4,
   "metadata": {},
   "outputs": [
    {
     "name": "stdout",
     "output_type": "stream",
     "text": [
      "\n",
      "Shape of X_conv: (500, 3)\n",
      "Shape of y_conv: (500,)\n"
     ]
    }
   ],
   "source": [
    "# Define features (X) and target (y)\n",
    "x_clv = df_clv[['AvgPurchaseValue', 'PurchaseFrequency', 'CustomerTenure']]\n",
    "y_clv = df_clv['CLV']\n",
    "\n",
    "print(\"\\nShape of X_conv:\", x_clv.shape)\n",
    "print(\"Shape of y_conv:\", y_clv.shape)"
   ]
  },
  {
   "cell_type": "markdown",
   "metadata": {},
   "source": [
    "## Task 3: Splitting the data"
   ]
  },
  {
   "cell_type": "code",
   "execution_count": 5,
   "metadata": {},
   "outputs": [
    {
     "name": "stdout",
     "output_type": "stream",
     "text": [
      "\n",
      "--- MLR Train-Test Split ---\n",
      "Training set size: 400\n",
      "Test set size: 100\n"
     ]
    }
   ],
   "source": [
    "X_clv_train, X_clv_test, y_clv_train, y_clv_test = train_test_split(\n",
    "    x_clv, y_clv, test_size=0.20, random_state=110 # Using 80/20 split here\n",
    ")\n",
    "\n",
    "print(\"\\n--- MLR Train-Test Split ---\")\n",
    "print(\"Training set size:\", X_clv_train.shape[0])\n",
    "print(\"Test set size:\", X_clv_test.shape[0])"
   ]
  },
  {
   "cell_type": "markdown",
   "metadata": {},
   "source": [
    "## Task 4: Create instance of Linear Regression model"
   ]
  },
  {
   "cell_type": "code",
   "execution_count": 6,
   "metadata": {},
   "outputs": [
    {
     "name": "stdout",
     "output_type": "stream",
     "text": [
      "MLR Model created.\n"
     ]
    }
   ],
   "source": [
    "# Create the Multiple Linear Regression model\n",
    "mlr_model = LinearRegression()\n",
    "\n",
    "print('MLR Model created.')"
   ]
  },
  {
   "cell_type": "markdown",
   "metadata": {},
   "source": [
    "## Task 5: Train the MLR model using the training data"
   ]
  },
  {
   "cell_type": "code",
   "execution_count": 7,
   "metadata": {},
   "outputs": [
    {
     "name": "stdout",
     "output_type": "stream",
     "text": [
      "\n",
      "MLR Model trained successfully.\n"
     ]
    }
   ],
   "source": [
    "#Train the MLR model\n",
    "mlr_model.fit(X_clv_train, y_clv_train)\n",
    "\n",
    "print(\"\\nMLR Model trained successfully.\")\n"
   ]
  },
  {
   "cell_type": "markdown",
   "metadata": {},
   "source": [
    "## Task 6: Print intercepts and coefficients"
   ]
  },
  {
   "cell_type": "code",
   "execution_count": 8,
   "metadata": {},
   "outputs": [
    {
     "name": "stdout",
     "output_type": "stream",
     "text": [
      "\n",
      "--- MLR Model Coefficients ---\n",
      "Intercept (β₀): 184.239\n",
      "             Feature  Coefficient (β)\n",
      "0   AvgPurchaseValue         9.720471\n",
      "1  PurchaseFrequency        75.771990\n",
      "2     CustomerTenure        49.723306\n",
      "\n",
      "Interpretation:\n",
      "- The model predicts a baseline customer lifetime value of $184.239 when all predictors (purchase value, purchase frequency, customer tenure) are zero (use caution interpreting intercepts).\n",
      "- For each additional dollar of Average Purchase Value, customer lifetime value is predicted to increase by $9.720, holding Purchase Frequency and Customer Tenure constant.\n",
      "- For each additional purchase, customer lifetime value is predicted to increase by $75.772, holding Average Purchase Value and Customer Tenure constant.\n",
      "- For each one year increase in Customer Tenure, customer lifetime value is predicted to decrease by $49.723 (note the negative sign), holding Average Purchase Value and Purchase Frequency constant.\n"
     ]
    }
   ],
   "source": [
    "# Get intercept and coefficients\n",
    "mlr_intercept = mlr_model.intercept_\n",
    "mlr_coefficients = mlr_model.coef_\n",
    "\n",
    "print(f\"\\n--- MLR Model Coefficients ---\")\n",
    "print(f\"Intercept (β₀): {mlr_intercept:.3f}\")\n",
    "\n",
    "# Match coefficients to feature names\n",
    "feature_names = X_clv_train.columns\n",
    "coeffs_df = pd.DataFrame({'Feature': feature_names, 'Coefficient (β)': mlr_coefficients})\n",
    "print(coeffs_df)\n",
    "\n",
    "# Interpretation\n",
    "print(\"\\nInterpretation:\")\n",
    "print(f\"- The model predicts a baseline customer lifetime value of ${mlr_intercept:.3f} when all predictors (purchase value, purchase frequency, customer tenure) are zero (use caution interpreting intercepts).\")\n",
    "print(f\"- For each additional dollar of Average Purchase Value, customer lifetime value is predicted to increase by ${coeffs_df.loc[0, 'Coefficient (β)']:.3f}, holding Purchase Frequency and Customer Tenure constant.\")\n",
    "print(f\"- For each additional purchase, customer lifetime value is predicted to increase by ${coeffs_df.loc[1, 'Coefficient (β)']:.3f}, holding Average Purchase Value and Customer Tenure constant.\")\n",
    "print(f\"- For each one year increase in Customer Tenure, customer lifetime value is predicted to decrease by ${abs(coeffs_df.loc[2, 'Coefficient (β)']):.3f} (note the negative sign), holding Average Purchase Value and Purchase Frequency constant.\")"
   ]
  },
  {
   "cell_type": "markdown",
   "metadata": {},
   "source": [
    "## Task 7: Evaluate the model’s performance on the test set"
   ]
  },
  {
   "cell_type": "code",
   "execution_count": 9,
   "metadata": {},
   "outputs": [
    {
     "name": "stdout",
     "output_type": "stream",
     "text": [
      "\n",
      "--- MLR Model Evaluation (Test Set) ---\n",
      "R-squared (R²): 0.564\n",
      "Root Mean Squared Error (RMSE): 249.398\n",
      "Mean Absolute Error (MAE): 62199.421\n"
     ]
    }
   ],
   "source": [
    "# Make predictions on the TEST set\n",
    "y_clv_pred_test = mlr_model.predict(X_clv_test)\n",
    "\n",
    "# Calculate evaluation metrics\n",
    "r2_mlr_test = r2_score(y_clv_test, y_clv_pred_test)\n",
    "mse_mlr_test = mean_squared_error(y_clv_test, y_clv_pred_test)\n",
    "rmse_mlr_test = np.sqrt(mse_mlr_test)\n",
    "\n",
    "print(f\"\\n--- MLR Model Evaluation (Test Set) ---\")\n",
    "print(f\"R-squared (R²): {r2_mlr_test:.3f}\")\n",
    "print(f\"Root Mean Squared Error (RMSE): {rmse_mlr_test:.3f}\") # Units are percentage points\n",
    "print(f\"Mean Absolute Error (MAE): {mse_mlr_test:.3f}\") "
   ]
  },
  {
   "cell_type": "markdown",
   "metadata": {},
   "source": [
    "## Task 8: Make a prediction for the CLV "
   ]
  },
  {
   "cell_type": "code",
   "execution_count": 12,
   "metadata": {},
   "outputs": [
    {
     "name": "stdout",
     "output_type": "stream",
     "text": [
      "\n",
      "--- MLR Prediction ---\n",
      "Predicted Customer Lifetime Value for profile: $1664.00\n"
     ]
    }
   ],
   "source": [
    "# Predict conversion rate for a new customer with the profile\n",
    "new_visitor_profile = pd.DataFrame({\n",
    "    'AvgPurchaseValue': [85],  # $85\n",
    "    'PurchaseFrequency': [6],         \n",
    "    'CustomerTenure': [4]            # 4 years\n",
    "})\n",
    "\n",
    "predicted_conversion = mlr_model.predict(new_visitor_profile)\n",
    "\n",
    "print(f\"\\n--- MLR Prediction ---\")\n",
    "print(f\"Predicted Customer Lifetime Value for profile: ${predicted_conversion[0]:.2f}\") "
   ]
  }
 ],
 "metadata": {
  "kernelspec": {
   "display_name": "Python 3",
   "language": "python",
   "name": "python3"
  },
  "language_info": {
   "codemirror_mode": {
    "name": "ipython",
    "version": 3
   },
   "file_extension": ".py",
   "mimetype": "text/x-python",
   "name": "python",
   "nbconvert_exporter": "python",
   "pygments_lexer": "ipython3",
   "version": "3.11.9"
  }
 },
 "nbformat": 4,
 "nbformat_minor": 2
}
